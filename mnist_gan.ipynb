{
 "cells": [
  {
   "cell_type": "markdown",
   "metadata": {
    "colab_type": "text",
    "id": "view-in-github"
   },
   "source": [
    "<a href=\"https://colab.research.google.com/github/bielrossi15/generator/blob/master/mnist_gan.ipynb\" target=\"_parent\"><img src=\"https://colab.research.google.com/assets/colab-badge.svg\" alt=\"Open In Colab\"/></a>"
   ]
  },
  {
   "cell_type": "code",
   "execution_count": 2,
   "metadata": {
    "id": "S3_0b2r2Xbgq"
   },
   "outputs": [],
   "source": [
    "import tensorflow as tf\n",
    "import matplotlib.pyplot as plt\n",
    "import numpy as np\n",
    "import os\n",
    "import glob\n",
    "from PIL import Image\n",
    "\n",
    "%matplotlib inline"
   ]
  },
  {
   "cell_type": "code",
   "execution_count": 3,
   "metadata": {},
   "outputs": [],
   "source": [
    "BATCH_SIZE = 256\n",
    "SEED = 100"
   ]
  },
  {
   "cell_type": "code",
   "execution_count": 4,
   "metadata": {
    "id": "d44h-d5nVPEi"
   },
   "outputs": [],
   "source": [
    "(train_images, _), (_, _) = tf.keras.datasets.mnist.load_data()\n",
    "train_images_reshaped = train_images.reshape(train_images.shape[0], 28, 28, 1).astype('float32')\n",
    "train_images_reshaped = (train_images_reshaped - 127.5) / 127.5\n",
    "t_dataset = tf.data.Dataset.from_tensor_slices(train_images_reshaped).shuffle(60000).batch(BATCH_SIZE)"
   ]
  },
  {
   "cell_type": "markdown",
   "metadata": {
    "id": "x9cKz10bnepG"
   },
   "source": [
    "# **DISCRIMINATOR**"
   ]
  },
  {
   "cell_type": "code",
   "execution_count": 5,
   "metadata": {
    "id": "3WZ7_ixanldC"
   },
   "outputs": [],
   "source": [
    "def discriminator_model(img_shape):\n",
    "    model = tf.keras.Sequential()\n",
    "\n",
    "    model.add(tf.keras.layers.Conv2D(64, kernel_size=5, strides=2, padding=\"same\", input_shape=img_shape))\n",
    "    model.add(tf.keras.layers.LeakyReLU())\n",
    "\n",
    "    model.add(tf.keras.layers.Conv2D(128, kernel_size=5, strides=2, padding=\"same\"))\n",
    "    model.add(tf.keras.layers.LeakyReLU())\n",
    "\n",
    "    model.add(tf.keras.layers.Conv2D(256, kernel_size=5, strides=2, padding=\"same\"))\n",
    "    model.add(tf.keras.layers.LeakyReLU())\n",
    "\n",
    "    model.add(tf.keras.layers.Flatten())\n",
    "    model.add(tf.keras.layers.Dense(1,activation='sigmoid'))\n",
    "\n",
    "    return model"
   ]
  },
  {
   "cell_type": "code",
   "execution_count": 6,
   "metadata": {
    "id": "-uuZ7d5G0QP0"
   },
   "outputs": [],
   "source": [
    "d_model = discriminator_model((28,28,1))"
   ]
  },
  {
   "cell_type": "code",
   "execution_count": 7,
   "metadata": {
    "id": "PVCzEUSb0vpi"
   },
   "outputs": [],
   "source": [
    "d_optimizer = tf.keras.optimizers.Adam(1e-3)  "
   ]
  },
  {
   "cell_type": "code",
   "execution_count": 8,
   "metadata": {
    "id": "i3K5cn3P1wus"
   },
   "outputs": [],
   "source": [
    "def discriminator_loss(r_pred, f_pred):\n",
    "    r_pred = tf.sigmoid(r_pred) # [0,1]\n",
    "    f_pred = tf.sigmoid(f_pred) # [0,1]\n",
    "    r_loss = tf.losses.binary_crossentropy(tf.ones_like(r_pred),r_pred) # r_pred ~ 1\n",
    "    f_loss = tf.losses.binary_crossentropy(tf.zeros_like(f_pred),f_pred) # f_pred ~ 0\n",
    "    return r_loss + f_loss"
   ]
  },
  {
   "cell_type": "markdown",
   "metadata": {
    "id": "2d9O5sVb3F6H"
   },
   "source": [
    "# **GENERATOR**"
   ]
  },
  {
   "cell_type": "code",
   "execution_count": 9,
   "metadata": {
    "id": "nXVm1_h72raX"
   },
   "outputs": [],
   "source": [
    "def generator_model():\n",
    "    model = tf.keras.Sequential()\n",
    "\n",
    "    model.add(tf.keras.layers.Dense(7*7*256, input_shape=(SEED,)))\n",
    "    model.add(tf.keras.layers.BatchNormalization())\n",
    "    model.add(tf.keras.layers.LeakyReLU())\n",
    "    model.add(tf.keras.layers.Reshape((7,7,256)))\n",
    "\n",
    "    print(model.output_shape)\n",
    "\n",
    "    model.add(tf.keras.layers.Conv2DTranspose(256,5, strides=1,padding=\"same\"))\n",
    "    model.add(tf.keras.layers.BatchNormalization())\n",
    "    model.add(tf.keras.layers.LeakyReLU())\n",
    "\n",
    "    print(model.output_shape)\n",
    "\n",
    "    model.add(tf.keras.layers.Conv2DTranspose(128,5,strides=2,padding=\"same\"))\n",
    "    model.add(tf.keras.layers.BatchNormalization())\n",
    "    model.add(tf.keras.layers.LeakyReLU())\n",
    "\n",
    "    print(model.output_shape)\n",
    "\n",
    "    model.add(tf.keras.layers.Conv2DTranspose(64,5,strides=2,padding=\"same\"))\n",
    "    model.add(tf.keras.layers.BatchNormalization())\n",
    "    model.add(tf.keras.layers.LeakyReLU())\n",
    "\n",
    "    print(model.output_shape)\n",
    "\n",
    "    model.add(tf.keras.layers.Conv2DTranspose(1,5,padding=\"same\"))\n",
    "\n",
    "    print(model.output_shape)\n",
    "\n",
    "    return model"
   ]
  },
  {
   "cell_type": "code",
   "execution_count": 10,
   "metadata": {
    "colab": {
     "base_uri": "https://localhost:8080/"
    },
    "id": "-qBrya8V6_5g",
    "outputId": "72ba092b-c18f-4cf2-e6d2-5d7377ff3be4"
   },
   "outputs": [
    {
     "name": "stdout",
     "output_type": "stream",
     "text": [
      "(None, 7, 7, 256)\n",
      "(None, 7, 7, 256)\n",
      "(None, 14, 14, 128)\n",
      "(None, 28, 28, 64)\n",
      "(None, 28, 28, 1)\n"
     ]
    }
   ],
   "source": [
    "g_model = generator_model()"
   ]
  },
  {
   "cell_type": "code",
   "execution_count": 11,
   "metadata": {
    "id": "MmX96NEV_F0E"
   },
   "outputs": [],
   "source": [
    "g_optimizer = tf.keras.optimizers.Adam(1e-3)"
   ]
  },
  {
   "cell_type": "code",
   "execution_count": 12,
   "metadata": {
    "id": "fQk4XHM87I0S"
   },
   "outputs": [],
   "source": [
    "def generator_loss(f_pred):\n",
    "    f_pred = tf.sigmoid(f_pred)\n",
    "    f_loss = tf.losses.binary_crossentropy(tf.ones_like(f_pred),f_pred) # f_pred ~ 1\n",
    "    return f_loss"
   ]
  },
  {
   "cell_type": "code",
   "execution_count": 16,
   "metadata": {
    "colab": {
     "base_uri": "https://localhost:8080/",
     "height": 282
    },
    "id": "KnC1R3X__Y-s",
    "outputId": "26c671c9-882e-4366-f343-b5fd0e86f1db"
   },
   "outputs": [
    {
     "data": {
      "text/plain": [
       "<matplotlib.image.AxesImage at 0x7f17195cfe48>"
      ]
     },
     "execution_count": 16,
     "metadata": {},
     "output_type": "execute_result"
    },
    {
     "data": {
      "image/png": "[encoded data removed]",
      "text/plain": [
       "<Figure size 432x288 with 1 Axes>"
      ]
     },
     "metadata": {
      "needs_background": "light"
     },
     "output_type": "display_data"
    }
   ],
   "source": [
    "noise = tf.random.normal([1,100])\n",
    "generated_image = g_model(noise, training=False)\n",
    "plt.imshow(generated_image[0,:,:,0])"
   ]
  },
  {
   "cell_type": "markdown",
   "metadata": {
    "id": "mLDpqvs8_MX1"
   },
   "source": [
    "# **TRAINING**"
   ]
  },
  {
   "cell_type": "code",
   "execution_count": 20,
   "metadata": {
    "id": "oQrXIu2l_N_j"
   },
   "outputs": [],
   "source": [
    "def train(dataset,epochs):\n",
    "    for _ in range(epochs):\n",
    "        for images in t_dataset:\n",
    "            images = tf.cast(images,tf.dtypes.float32)\n",
    "            train_step(images)"
   ]
  },
  {
   "cell_type": "code",
   "execution_count": 21,
   "metadata": {
    "id": "SAWNUPgnBQhj"
   },
   "outputs": [],
   "source": [
    "def train_step(images):\n",
    "    noise = tf.random.normal([BATCH_SIZE,SEED])\n",
    "    with tf.GradientTape() as g_tape, tf.GradientTape() as d_tape:\n",
    "        generated_images = g_model(noise, training=True)\n",
    "        r_out = d_model(images)\n",
    "        f_out = d_model(generated_images)\n",
    "\n",
    "        g_loss = generator_loss(f_out)\n",
    "        d_loss = discriminator_loss(r_out, f_out)\n",
    "\n",
    "    gen_gradients = g_tape.gradient(g_loss, g_model.trainable_variables)\n",
    "    disc_gradients = d_tape.gradient(d_loss, d_model.trainable_variables)\n",
    "\n",
    "    g_optimizer.apply_gradients(zip(gen_gradients, g_model.trainable_variables))\n",
    "    d_optimizer.apply_gradients(zip(disc_gradients, d_model.trainable_variables))\n",
    "\n",
    "    print(\"generator loss: \", np.mean(g_loss))\n",
    "    print(\"discriminator loss: \", np.mean(d_loss))"
   ]
  },
  {
   "cell_type": "code",
   "execution_count": null,
   "metadata": {
    "colab": {
     "base_uri": "https://localhost:8080/",
     "height": 527
    },
    "id": "J4HYWCIDDAKW",
    "outputId": "4c49d8b0-bfd1-4e03-b0d4-bbf67e26fc4b"
   },
   "outputs": [
    {
     "name": "stdout",
     "output_type": "stream",
     "text": [
      "generator loss:  0.5407514\n",
      "discriminator loss:  1.3509954\n",
      "generator loss:  0.6921072\n",
      "discriminator loss:  1.2324231\n",
      "generator loss:  0.69289434\n",
      "discriminator loss:  1.1894212\n",
      "generator loss:  0.69096196\n",
      "discriminator loss:  1.1027346\n",
      "generator loss:  0.5054649\n",
      "discriminator loss:  1.286588\n",
      "generator loss:  0.69201696\n",
      "discriminator loss:  1.0414995\n",
      "generator loss:  0.69314617\n",
      "discriminator loss:  1.036997\n",
      "generator loss:  0.6931468\n",
      "discriminator loss:  1.0334738\n",
      "generator loss:  0.6931468\n",
      "discriminator loss:  1.027028\n",
      "generator loss:  0.6931468\n",
      "discriminator loss:  1.0204995\n",
      "generator loss:  0.6931468\n",
      "discriminator loss:  1.013625\n",
      "generator loss:  0.6931468\n",
      "discriminator loss:  1.0095804\n",
      "generator loss:  0.6931468\n",
      "discriminator loss:  1.0081925\n",
      "generator loss:  0.6931468\n",
      "discriminator loss:  1.0074763\n",
      "generator loss:  0.6931468\n",
      "discriminator loss:  1.0071378\n",
      "generator loss:  0.6931468\n",
      "discriminator loss:  1.0069327\n",
      "generator loss:  0.6931468\n",
      "discriminator loss:  1.0065324\n",
      "generator loss:  0.6931468\n",
      "discriminator loss:  1.0064976\n",
      "generator loss:  0.6931468\n",
      "discriminator loss:  1.0064808\n",
      "generator loss:  0.6931468\n",
      "discriminator loss:  1.0064266\n",
      "generator loss:  0.6931468\n",
      "discriminator loss:  1.006413\n",
      "generator loss:  0.6931468\n",
      "discriminator loss:  1.0064125\n",
      "generator loss:  0.6931468\n",
      "discriminator loss:  1.0064205\n",
      "generator loss:  0.6931468\n",
      "discriminator loss:  1.0064118\n",
      "generator loss:  0.6931468\n",
      "discriminator loss:  1.0064626\n",
      "generator loss:  0.6931468\n",
      "discriminator loss:  1.0064096\n",
      "generator loss:  0.6931468\n",
      "discriminator loss:  1.0064147\n",
      "generator loss:  0.6931468\n",
      "discriminator loss:  1.0064087\n",
      "generator loss:  0.6931468\n",
      "discriminator loss:  1.0064087\n",
      "generator loss:  0.6931468\n",
      "discriminator loss:  1.0064087\n",
      "generator loss:  0.6931468\n",
      "discriminator loss:  1.0064096\n",
      "generator loss:  0.6931467\n",
      "discriminator loss:  1.0064087\n",
      "generator loss:  0.6931356\n",
      "discriminator loss:  1.0064199\n",
      "generator loss:  0.6929474\n",
      "discriminator loss:  1.0066162\n",
      "generator loss:  0.66369224\n",
      "discriminator loss:  1.0516927\n",
      "generator loss:  0.5913261\n",
      "discriminator loss:  1.1714649\n",
      "generator loss:  0.57268417\n",
      "discriminator loss:  1.2022262\n",
      "generator loss:  0.55518454\n",
      "discriminator loss:  1.230969\n",
      "generator loss:  0.54389143\n",
      "discriminator loss:  1.2491784\n",
      "generator loss:  0.5300327\n",
      "discriminator loss:  1.2746131\n",
      "generator loss:  0.52139986\n",
      "discriminator loss:  1.3256731\n",
      "generator loss:  0.5205849\n",
      "discriminator loss:  1.3541046\n"
     ]
    }
   ],
   "source": [
    "train(t_dataset,50)"
   ]
  },
  {
   "cell_type": "code",
   "execution_count": null,
   "metadata": {},
   "outputs": [],
   "source": [
    "plt.imshow(tf.reshape(g_model(tf.random.normal([1,100])),(28,28)))"
   ]
  }
 ],
 "metadata": {
  "colab": {
   "authorship_tag": "ABX9TyOuTAdJbzrgC60kxoqaUjdo",
   "collapsed_sections": [],
   "include_colab_link": true,
   "mount_file_id": "12bTYWslgA0cmTXHWhcK4Px5yEIC4dyOt",
   "name": "Untitled1.ipynb",
   "provenance": []
  },
  "kernelspec": {
   "display_name": "Python 3",
   "language": "python",
   "name": "python3"
  },
  "language_info": {
   "codemirror_mode": {
    "name": "ipython",
    "version": 3
   },
   "file_extension": ".py",
   "mimetype": "text/x-python",
   "name": "python",
   "nbconvert_exporter": "python",
   "pygments_lexer": "ipython3",
   "version": "3.7.3"
  }
 },
 "nbformat": 4,
 "nbformat_minor": 1
}
